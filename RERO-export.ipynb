{
 "cells": [
  {
   "cell_type": "markdown",
   "id": "bd445f8a",
   "metadata": {},
   "source": [
    "Script de conversion pour ajouter les identifiants RERO aux fichiers exportés depuis Ouali."
   ]
  },
  {
   "cell_type": "code",
   "execution_count": 1,
   "id": "45e68913",
   "metadata": {},
   "outputs": [],
   "source": [
    "import pandas as pd\n",
    "import re\n",
    "ouali_files = ['input/AI-P1-established-20220830.tsv']\n",
    "rero_concord_file = 'input/20220729_concordances_id_rnv_id_rero_4_headings_withoutPrefix1.csv'\n",
    "\n",
    "output_folder = 'output'"
   ]
  },
  {
   "cell_type": "code",
   "execution_count": 3,
   "id": "1ed30f0c",
   "metadata": {},
   "outputs": [
    {
     "name": "stdout",
     "output_type": "stream",
     "text": [
      "Alignements manuels dans le fichier input/AI-P1-established-20220830.tsv : 3148\n",
      "Alignements avec concordance RERO : 3030\n"
     ]
    }
   ],
   "source": [
    "rero_concord = pd.read_csv(rero_concord_file, dtype = str)\n",
    "rero_concord['id_rero_join'] = rero_concord['id_rero'].fillna(rero_concord['id_rero_a'])\n",
    "rero_concord['id_rero_join'] = rero_concord.id_rero_join.str.extract('(\\d+)')\n",
    "\n",
    "for infile in ouali_files:\n",
    "    ouali_data = pd.read_csv(infile, sep='\\t', dtype = str)\n",
    "    ouali_align = ouali_data.query('`décision d\\'alignement` == \"manuel\"').copy()\n",
    "    print('Alignements manuels dans le fichier ' + infile + ' : ' + str(len(ouali_align)))\n",
    "    output_data = pd.merge(ouali_align, rero_concord, left_on='id source', right_on='id', how='inner')\n",
    "    output_data['id rnv']=output_data['id source']\n",
    "    output_data['id rero']=output_data['id_rero_join']\n",
    "    output_data['id idref']=output_data['id cible']\n",
    "    output_data['type']= ''\n",
    "    print('Alignements avec concordance RERO : ' + str(len(output_data)))\n",
    "    outfile = output_folder + '/' + re.search(\"\\/(.*)\\.tsv\",infile).group(1) + '_pourRERO.tsv'\n",
    "    output_data.to_csv(outfile,columns=['id rero','id idref', 'type'],encoding=\"UTF-8\",sep='\\t',index=False)"
   ]
  }
 ],
 "metadata": {
  "kernelspec": {
   "display_name": "Python 3 (ipykernel)",
   "language": "python",
   "name": "python3"
  },
  "language_info": {
   "codemirror_mode": {
    "name": "ipython",
    "version": 3
   },
   "file_extension": ".py",
   "mimetype": "text/x-python",
   "name": "python",
   "nbconvert_exporter": "python",
   "pygments_lexer": "ipython3",
   "version": "3.9.7"
  }
 },
 "nbformat": 4,
 "nbformat_minor": 5
}
